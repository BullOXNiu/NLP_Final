{
 "cells": [
  {
   "cell_type": "code",
   "execution_count": 1,
   "metadata": {},
   "outputs": [],
   "source": [
    "import glob\n",
    "import librosa\n",
    "import soundfile\n",
    "\n",
    "import matplotlib.pyplot as plt\n",
    "import numpy as np"
   ]
  },
  {
   "cell_type": "code",
   "execution_count": 2,
   "metadata": {},
   "outputs": [],
   "source": [
    "# Noise and Speech Standardization\n",
    "factory_dictionary = {\n",
    "    '0006':25, \n",
    "    '0050':20, \n",
    "    '0077':5, \n",
    "    '0116':15, \n",
    "    '0141':7, \n",
    "    '0160':25, \n",
    "    '0230':15, \n",
    "    '0334':15, \n",
    "    '0371':25, \n",
    "    '0403':3, \n",
    "    '0475':15, \n",
    "    '0492':15, \n",
    "    '0840':18\n",
    "}"
   ]
  },
  {
   "cell_type": "code",
   "execution_count": 3,
   "metadata": {},
   "outputs": [],
   "source": [
    "############## Choose the speech files to be used ################\n",
    "speech_count = 50"
   ]
  },
  {
   "cell_type": "code",
   "execution_count": 13,
   "metadata": {},
   "outputs": [],
   "source": [
    "# Noise file list\n",
    "##############  manually select one from list and change the noiseID below... ##################\n",
    "# noiseId_list = ['0006', '0050', '0077', '0116', '0141', '0160', '0230', '0334', '0371', '0403', '0475', '0492', '0840']\n",
    "\n",
    "noiseId = '0492'"
   ]
  },
  {
   "cell_type": "code",
   "execution_count": 5,
   "metadata": {},
   "outputs": [],
   "source": [
    "# Add noise function\n",
    "def add_noise():\n",
    "    ################ Loop through speech files in the 'Data' folder ################\n",
    "    for speech_path in glob.glob('./Data/*'):    \n",
    "        # Conditionly skip speech files based on speech_count\n",
    "        id = int(speech_path[-9:-4].lstrip('0'))\n",
    "        if (id > speech_count):\n",
    "            continue\n",
    "#         print(id)\n",
    "        \n",
    "        # Compute noise file path\n",
    "        noise_path = './Noises/pointsource_noises/noise-free-sound-' + noiseId + '.wav'\n",
    "\n",
    "        # Load file\n",
    "        signal, sr = librosa.load(speech_path, sr=16000)\n",
    "        noise, sr = librosa.load(noise_path, sr=16000)\n",
    "\n",
    "        # Compute intermediaries\n",
    "        factor = np.mean(signal) / np.mean(noise)\n",
    "        len_diff = len(signal) - len(noise)\n",
    "\n",
    "        # Standardize noise volumn\n",
    "        noise = noise / factory_dictionary[noiseId]\n",
    "\n",
    "        # Modify noise length\n",
    "        if len_diff > 0:\n",
    "            for i in range(len_diff):\n",
    "                noise = np.append(noise, 0.0)\n",
    "        elif len_diff < 0:\n",
    "            noise = noise[:len(signal)]\n",
    "        else:\n",
    "            pass\n",
    "\n",
    "        # Add noise to speech\n",
    "        signal_noise = signal + noise\n",
    "\n",
    "        ###################### Write to file in 'Noisy Data' folder ######################\n",
    "        new_path = './Noisy Data/' + speech_path[7:-4] + '_noise' + noiseId + '.wav'\n",
    "#             print(new_path)\n",
    "        soundfile.write(new_path, signal_noise, 16000)\n",
    "    print(\"DONE.\")"
   ]
  },
  {
   "cell_type": "code",
   "execution_count": 14,
   "metadata": {},
   "outputs": [
    {
     "ename": "ValueError",
     "evalue": "invalid literal for int() with base 10: '\\\\text'",
     "output_type": "error",
     "traceback": [
      "\u001b[1;31m---------------------------------------------------------------------------\u001b[0m",
      "\u001b[1;31mValueError\u001b[0m                                Traceback (most recent call last)",
      "\u001b[1;32m<ipython-input-14-494e01dd35c0>\u001b[0m in \u001b[0;36m<module>\u001b[1;34m\u001b[0m\n\u001b[0;32m      1\u001b[0m \u001b[1;31m# Call add_noise function\u001b[0m\u001b[1;33m\u001b[0m\u001b[1;33m\u001b[0m\u001b[1;33m\u001b[0m\u001b[0m\n\u001b[1;32m----> 2\u001b[1;33m \u001b[0madd_noise\u001b[0m\u001b[1;33m(\u001b[0m\u001b[1;33m)\u001b[0m\u001b[1;33m\u001b[0m\u001b[1;33m\u001b[0m\u001b[0m\n\u001b[0m",
      "\u001b[1;32m<ipython-input-5-f602b8144470>\u001b[0m in \u001b[0;36madd_noise\u001b[1;34m()\u001b[0m\n\u001b[0;32m      4\u001b[0m     \u001b[1;32mfor\u001b[0m \u001b[0mspeech_path\u001b[0m \u001b[1;32min\u001b[0m \u001b[0mglob\u001b[0m\u001b[1;33m.\u001b[0m\u001b[0mglob\u001b[0m\u001b[1;33m(\u001b[0m\u001b[1;34m'./Data/*'\u001b[0m\u001b[1;33m)\u001b[0m\u001b[1;33m:\u001b[0m\u001b[1;33m\u001b[0m\u001b[1;33m\u001b[0m\u001b[0m\n\u001b[0;32m      5\u001b[0m         \u001b[1;31m# Conditionly skip speech files based on speech_count\u001b[0m\u001b[1;33m\u001b[0m\u001b[1;33m\u001b[0m\u001b[1;33m\u001b[0m\u001b[0m\n\u001b[1;32m----> 6\u001b[1;33m         \u001b[0mid\u001b[0m \u001b[1;33m=\u001b[0m \u001b[0mint\u001b[0m\u001b[1;33m(\u001b[0m\u001b[0mspeech_path\u001b[0m\u001b[1;33m[\u001b[0m\u001b[1;33m-\u001b[0m\u001b[1;36m9\u001b[0m\u001b[1;33m:\u001b[0m\u001b[1;33m-\u001b[0m\u001b[1;36m4\u001b[0m\u001b[1;33m]\u001b[0m\u001b[1;33m.\u001b[0m\u001b[0mlstrip\u001b[0m\u001b[1;33m(\u001b[0m\u001b[1;34m'0'\u001b[0m\u001b[1;33m)\u001b[0m\u001b[1;33m)\u001b[0m\u001b[1;33m\u001b[0m\u001b[1;33m\u001b[0m\u001b[0m\n\u001b[0m\u001b[0;32m      7\u001b[0m         \u001b[1;32mif\u001b[0m \u001b[1;33m(\u001b[0m\u001b[0mid\u001b[0m \u001b[1;33m>\u001b[0m \u001b[0mspeech_count\u001b[0m\u001b[1;33m)\u001b[0m\u001b[1;33m:\u001b[0m\u001b[1;33m\u001b[0m\u001b[1;33m\u001b[0m\u001b[0m\n\u001b[0;32m      8\u001b[0m             \u001b[1;32mcontinue\u001b[0m\u001b[1;33m\u001b[0m\u001b[1;33m\u001b[0m\u001b[0m\n",
      "\u001b[1;31mValueError\u001b[0m: invalid literal for int() with base 10: '\\\\text'"
     ]
    }
   ],
   "source": [
    "# Call add_noise function\n",
    "add_noise()"
   ]
  },
  {
   "cell_type": "code",
   "execution_count": null,
   "metadata": {},
   "outputs": [],
   "source": []
  }
 ],
 "metadata": {
  "kernelspec": {
   "display_name": "Python 3",
   "language": "python",
   "name": "python3"
  },
  "language_info": {
   "codemirror_mode": {
    "name": "ipython",
    "version": 3
   },
   "file_extension": ".py",
   "mimetype": "text/x-python",
   "name": "python",
   "nbconvert_exporter": "python",
   "pygments_lexer": "ipython3",
   "version": "3.7.9"
  }
 },
 "nbformat": 4,
 "nbformat_minor": 4
}
